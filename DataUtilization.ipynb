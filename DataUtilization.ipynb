{
 "cells": [
  {
   "cell_type": "code",
   "execution_count": 4,
   "metadata": {},
   "outputs": [
    {
     "name": "stdout",
     "output_type": "stream",
     "text": [
      "INSERT INTO apachelog VALUES ('WV3333', '13/Feb/2024 03:42:46', 'GET', '/Windchill/netmarkets/jsp/util/getBundleKey.jsp?key=com.ptc.netmarkets.util.utilResource.CONFIRM_EXTERNAL_SITE', '200');\n",
      "[{'userid': 'WV3333', 'accessdate': datetime.datetime(2024, 2, 13, 3, 42, 46), 'httpmethod': 'GET', 'query': '/Windchill/netmarkets/jsp/util/getBundleKey.jsp?key=com.ptc.netmarkets.util.utilResource.CONFIRM_EXTERNAL_SITE', 'httpstatus': '200'}, {'userid': 'WV3333', 'accessdate': datetime.datetime(2024, 2, 13, 3, 42, 46), 'httpmethod': 'GET', 'query': '/Windchill/netmarkets/jsp/util/getBundleKey.jsp?key=com.ptc.netmarkets.util.utilResource.CONFIRM_EXTERNAL_SITE', 'httpstatus': '200'}]\n"
     ]
    }
   ],
   "source": [
    "from skf.util._database import connect_sql,read_data,update_data, disconnect_sql\n",
    "import json\n",
    "\n",
    "config = json.load(open('config.json'))\n",
    "connection = connect_sql(config.get('db_host'), config.get('db_user'), config.get('db_password'), config.get('db_name'))\n",
    "sList = ['WV3333', '13/Feb/2024 03:42:46', 'GET', '/Windchill/netmarkets/jsp/util/getBundleKey.jsp?key=com.ptc.netmarkets.util.utilResource.CONFIRM_EXTERNAL_SITE', '200']\n",
    "query = (\"INSERT INTO apachelog VALUES %s;\" % (tuple(sList),))\n",
    "print(query)\n",
    "\n",
    "# query = \"DELETE FROM apachelog WHERE userid='WV3333'\"\n",
    "\n",
    "update_data(connection,query)\n",
    "\n",
    "query = 'SELECT * from apachelog'\n",
    "\n",
    "rows= read_data(connection,query)\n",
    "\n",
    "disconnect_sql(connection)\n",
    "\n",
    "print(rows)"
   ]
  },
  {
   "cell_type": "code",
   "execution_count": 4,
   "metadata": {},
   "outputs": [
    {
     "name": "stdout",
     "output_type": "stream",
     "text": [
      "521054\n",
      "[['-', '31/Jan/2024 00:00:00', 'GET', '/', '200', '', '', ''], ['-', '31/Jan/2024 00:00:01', 'GET', '/', '200', '', '', ''], ['G002269', '31/Jan/2024 00:00:03', 'POST', '/Windchill/servlet/WindchillAuthGW/com.ptc.windchill.uwgm.soap.impl.uwgm.BinaryRequestHandler/getCacheDescriptor?trxid=29059922722834.16&SessionId=G002269@100.64.0.1_2024-01-30T19:56:23.812-03:0&action_id=WorkspaceTableView_20240130200001_29059922722834&ReqNum=16&cancelModelConv=true', '200', 'WindchillAuthGW', '', ''], ['-', '31/Jan/2024 00:00:04', 'GET', '/', '200', '', '', ''], ['-', '31/Jan/2024 00:00:04', 'GET', '/Windchill/wtcore/images/akamai/sr-test-0043kb.html', '200', '', '', ''], ['-', '31/Jan/2024 00:00:04', 'GET', '/', '200', '', '', ''], ['-', '31/Jan/2024 00:00:05', 'GET', '/Windchill/wtcore/images/akamai/sr-test-0043kb.html', '200', '', '', ''], ['-', '31/Jan/2024 00:00:06', 'GET', '/', '200', '', '', ''], ['-', '31/Jan/2024 00:00:09', 'GET', '/', '200', '', '', '']]\n"
     ]
    }
   ],
   "source": [
    "import os\n",
    "import json\n",
    "from skf.util import process_apache_logs\n",
    "\n",
    "config = json.load(open('config.json'))\n",
    "log_path = 'C:\\\\temp\\\\WcProd_ApacheLogs\\\\accesslogs\\\\W2750' #config.get('logs_path')\n",
    "\n",
    "# logdata = process_apache_logs(log_path)\n",
    "\n",
    "logdata = []\n",
    "files = os.listdir(log_path)\n",
    "\n",
    "for f in files:\n",
    "    fpath = log_path+\"/\"+f\n",
    "    with open(fpath, 'r') as f:\n",
    "        for row in f.readlines():\n",
    "            if 'wt.httpgw.HTTPServer' not in row:\n",
    "                cleanedLogvalue = row.strip().replace(\"[\",\"\").replace(\"]\",\"\").replace(\"\\\"\",\"\").split()\n",
    "                cleanedLogvalue[3] = cleanedLogvalue[3].replace(':',' ',1)\n",
    "                cleanedLogvalue.pop(4)\n",
    "                cleanedLogvalue.pop(6)\n",
    "                templist = cleanedLogvalue[2:7]\n",
    "                if '/servlet' in cleanedLogvalue[5]:\n",
    "                    technology = cleanedLogvalue[5].split('servlet/')[1].split(\"/\")[0].split('?')[0]\n",
    "                    if len(technology) > 50:\n",
    "                        technology = technology[:50]\n",
    "                    templist.append(technology)\n",
    "                    if 'servlet/IE' in cleanedLogvalue[5] and '/tasks' in cleanedLogvalue[5]:\n",
    "                        wccustomization = cleanedLogvalue[5].split('tasks')[1].split(\"?\")[0]\n",
    "                        endpoint = cleanedLogvalue[5].split('tasks')[1].split(\"?\")[0].split('/')[-1]\n",
    "                        wccustomization = wccustomization.replace(f'/{endpoint}',\"\")\n",
    "                        templist.append(wccustomization)\n",
    "                        templist.append(endpoint)\n",
    "                    elif 'servlet/odata' in cleanedLogvalue[5]:\n",
    "                        wccustomization = (cleanedLogvalue[5].split('odata')[1].split(\"?\")[0])\n",
    "                        endpoint = (cleanedLogvalue[5].split('odata')[1].split(\"?\")[0].split('/')[-1])\n",
    "                        wccustomization = wccustomization.replace(f'/{endpoint}',\"\")\n",
    "                        templist.append(wccustomization.split(\"(\")[0])\n",
    "                        templist.append(endpoint.split(\"(\")[0]) # Added split to avoid object specific info in endpoint\n",
    "                    elif 'servlet/rest' in cleanedLogvalue[5]:\n",
    "                        wccustomization = (cleanedLogvalue[5].split('rest')[1].split(\"?\")[0])\n",
    "                        endpoint = (cleanedLogvalue[5].split('rest')[1].split(\"?\")[0].split('/')[-1])\n",
    "                        wccustomization = wccustomization.replace(f'/{endpoint}',\"\")\n",
    "                        templist.append(wccustomization)\n",
    "                        templist.append(endpoint)\n",
    "                    else:   # To manage database update empty values added\n",
    "                        templist.append('')\n",
    "                        templist.append('')\n",
    "                elif 'infoengine' in cleanedLogvalue[5] and '/jsp' in cleanedLogvalue[5]:\n",
    "                    technology = 'infoengine'\n",
    "                    templist.append(technology)\n",
    "                    wccustomization = (cleanedLogvalue[5].split('/jsp')[1].split(\"?\")[0])\n",
    "                    endpoint = (cleanedLogvalue[5].split('/jsp')[1].split(\"?\")[0].split('/')[-1])\n",
    "                    wccustomization = wccustomization.replace(f'/{endpoint}',\"\")\n",
    "                    templist.append(wccustomization)\n",
    "                    templist.append(endpoint)\n",
    "                else:\n",
    "                    templist.append('') # To manage datbase update empty values added\n",
    "                    templist.append('')\n",
    "                    templist.append('')\n",
    "                # print(templist)\n",
    "                logdata.append(templist)\n",
    "                #print(templist)\n",
    "\n",
    "    # break\n",
    "\n",
    "# files_with_path = [os.path.abspath(x) for x in os.listdir(log_path)]\n",
    "print(len(logdata))\n",
    "print(logdata[1:10])\n"
   ]
  },
  {
   "cell_type": "code",
   "execution_count": 20,
   "metadata": {},
   "outputs": [
    {
     "name": "stdout",
     "output_type": "stream",
     "text": [
      "v2_6p/wepi/skf\n"
     ]
    }
   ],
   "source": [
    "technology=['REST','IE','Others']\n",
    "customizations=['mupu','odata']\n",
    "text = 'skf/wepi/v2_6p/WepiQuery1.xml'\n",
    "sText = text.split(\"/\")[::-1]\n",
    "\n",
    "rtext = sText\n",
    "\n",
    "print('/'.join(rtext[1:]))\n",
    "\n",
    "# print((reversed(text)).split('/',1))"
   ]
  },
  {
   "cell_type": "code",
   "execution_count": 6,
   "metadata": {},
   "outputs": [
    {
     "ename": "FileNotFoundError",
     "evalue": "[WinError 3] The system cannot find the path specified: 'c:\\\\Users\\\\NZ8554\\\\OneDrive - SKF\\\\Documents\\\\Rajesh_D\\\\Development\\\\Python\\\\windchill-analytics\\\\W2749'",
     "output_type": "error",
     "traceback": [
      "\u001b[1;31m---------------------------------------------------------------------------\u001b[0m",
      "\u001b[1;31mFileNotFoundError\u001b[0m                         Traceback (most recent call last)",
      "Cell \u001b[1;32mIn[6], line 6\u001b[0m\n\u001b[0;32m      3\u001b[0m fPath \u001b[38;5;241m=\u001b[39m \u001b[38;5;124m'\u001b[39m\u001b[38;5;124mC:\u001b[39m\u001b[38;5;130;01m\\\\\u001b[39;00m\u001b[38;5;124mtemp\u001b[39m\u001b[38;5;130;01m\\\\\u001b[39;00m\u001b[38;5;124mWcProd_ApacheLogs\u001b[39m\u001b[38;5;130;01m\\\\\u001b[39;00m\u001b[38;5;124maccesslogs\u001b[39m\u001b[38;5;124m'\u001b[39m\n\u001b[0;32m      5\u001b[0m files_path \u001b[38;5;241m=\u001b[39m [os\u001b[38;5;241m.\u001b[39mpath\u001b[38;5;241m.\u001b[39mabspath(x) \u001b[38;5;28;01mfor\u001b[39;00m x \u001b[38;5;129;01min\u001b[39;00m os\u001b[38;5;241m.\u001b[39mlistdir(fPath)]\n\u001b[1;32m----> 6\u001b[0m \u001b[38;5;28mprint\u001b[39m(\u001b[43mos\u001b[49m\u001b[38;5;241;43m.\u001b[39;49m\u001b[43mlistdir\u001b[49m\u001b[43m(\u001b[49m\u001b[43mfiles_path\u001b[49m\u001b[43m[\u001b[49m\u001b[38;5;241;43m0\u001b[39;49m\u001b[43m]\u001b[49m\u001b[43m)\u001b[49m)\n",
      "\u001b[1;31mFileNotFoundError\u001b[0m: [WinError 3] The system cannot find the path specified: 'c:\\\\Users\\\\NZ8554\\\\OneDrive - SKF\\\\Documents\\\\Rajesh_D\\\\Development\\\\Python\\\\windchill-analytics\\\\W2749'"
     ]
    }
   ],
   "source": [
    "import os\n",
    "\n",
    "fPath = 'C:\\\\temp\\\\WcProd_ApacheLogs\\\\accesslogs'\n",
    "\n",
    "files_path = [os.path.abspath(x) for x in os.listdir(fPath)]\n",
    "print(os.listdir(files_path[0]))\n"
   ]
  }
 ],
 "metadata": {
  "kernelspec": {
   "display_name": "Python 3",
   "language": "python",
   "name": "python3"
  },
  "language_info": {
   "codemirror_mode": {
    "name": "ipython",
    "version": 3
   },
   "file_extension": ".py",
   "mimetype": "text/x-python",
   "name": "python",
   "nbconvert_exporter": "python",
   "pygments_lexer": "ipython3",
   "version": "3.10.4"
  }
 },
 "nbformat": 4,
 "nbformat_minor": 2
}
